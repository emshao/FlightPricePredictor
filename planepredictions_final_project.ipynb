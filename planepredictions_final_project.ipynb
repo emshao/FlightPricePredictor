{
 "cells": [
  {
   "cell_type": "markdown",
   "metadata": {},
   "source": [
    "# Final Project: Flight Price Prediction\n",
    "\n",
    "According to statistics from the Bureau of Transportation, over 853 million passengers traveled through U.S. airports in 2022. In 2020, there were 388 million passengers traveling and in 2021, there were 658 million passengers. The number of travelers has been steadily increasing year by year as the global aviation industry has expanded and demand for tourism has accelerated. However, not everyone in the world can afford to fly because of the high cost of air travel. We hope to give potential passengers and airlines an idea of the market demand and price of air travel. \n",
    "\n",
    "\n",
    "In our project we will answer the question:\n",
    "     Are we able to find the cheapest flight price given certain criteria for flights?"
   ]
  },
  {
   "cell_type": "markdown",
   "metadata": {},
   "source": [
    "## Part 1: Exploratory Data Analysis"
   ]
  },
  {
   "cell_type": "markdown",
   "metadata": {},
   "source": [
    "First we need to import the necessary libraries for data analysis and preprocess our [kaggle dataset](https://www.kaggle.com/datasets/dilwong/flightprices). "
   ]
  },
  {
   "cell_type": "code",
   "execution_count": 2,
   "metadata": {},
   "outputs": [],
   "source": [
    "import numpy as np\n",
    "import pandas as pd\n",
    "import matplotlib.pyplot as plt\n",
    "#include imports for machine learning here\n",
    "\n",
    "#to create the complex graph network\n",
    "import networkx as nx\n",
    "\n",
    "#pre-training, classification, fine tuning, testing, and generating\n",
    "#when we do pretraining we need to make sure that the BERT model can make a distinction between rap styles. Based on the rhyme scheme. \n",
    "\n",
    "flight_data = pd.read_csv(\"data/itineraries.csv\")\n",
    "display(flight_data.summary())\n",
    "\n",
    "#for data analysis of weekend prices v. weekday prices.\n",
    "'''\n",
    "TODO\n",
    "    grab airline, day of journey, and flight price -> these parameters will change based on destination, so I will pick a set destination that is relatively large to \n",
    "'''\n"
   ]
  }
 ],
 "metadata": {
  "kernelspec": {
   "display_name": "Python 3",
   "language": "python",
   "name": "python3"
  },
  "language_info": {
   "codemirror_mode": {
    "name": "ipython",
    "version": 3
   },
   "file_extension": ".py",
   "mimetype": "text/x-python",
   "name": "python",
   "nbconvert_exporter": "python",
   "pygments_lexer": "ipython3",
   "version": "3.11.1"
  }
 },
 "nbformat": 4,
 "nbformat_minor": 2
}
