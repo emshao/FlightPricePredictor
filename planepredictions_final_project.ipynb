{
 "cells": [
  {
   "cell_type": "markdown",
   "metadata": {},
   "source": [
    "# Final Project: Flight Price Prediction\n",
    "\n",
    "According to statistics from the Bureau of Transportation, over 853 million passengers traveled through U.S. airports in 2022. In 2020, there were 388 million passengers traveling and in 2021, there were 658 million passengers. The number of travelers has been steadily increasing year by year as the global aviation industry has expanded and demand for tourism has accelerated. However, not everyone in the world can afford to fly because of the high cost of air travel. We hope to give potential passengers and airlines an idea of the market demand and price of air travel. \n",
    "\n",
    "\n",
    "In our project we will answer the question:\n",
    "     Are we able to find the cheapest flight price given certain criteria for flights?"
   ]
  },
  {
   "cell_type": "markdown",
   "metadata": {},
   "source": [
    "## Part 1: Exploratory Data Analysis"
   ]
  },
  {
   "cell_type": "markdown",
   "metadata": {},
   "source": [
    "First we need to import the necessary libraries for data analysis and preprocess our [kaggle dataset](https://www.kaggle.com/datasets/dilwong/flightprices). "
   ]
  },
  {
   "cell_type": "code",
   "execution_count": 3,
   "metadata": {},
   "outputs": [],
   "source": [
    "import numpy as np\n",
    "import pandas as pd\n",
    "import matplotlib.pyplot as plt\n",
    "import seaborn as sns\n",
    "#include imports for machine learning here\n",
    "\n",
    "#to create the complex graph network\n",
    "import networkx as nx \n",
    "#use pyvis to generate better looking graphs\n",
    "#rom pyvis.network import Network\n",
    "\n",
    "#chunk the data - use a preditermined chunking pattern before the dataset is loaded in. \n",
    "columns = ['flightDate', 'segmentsAirlineCode', 'totalFare', 'startingAirport', 'destinationAirport', 'segmentsAirlineName']\n",
    "\n",
    "\n",
    "chunksize=10000\n",
    "flight_price_dataset = pd.read_csv(\"data/itineraries.csv\", chunksize=chunksize)\n",
    "week_analysis_data = next(flight_price_dataset)\n",
    "# week_analysis_data = week_analysis_data.sample(frac=1, random_state=42)\n",
    "# display(week_analysis_data)\n",
    "week_analysis_data = week_analysis_data[columns]\n",
    "display(week_analysis_data)\n",
    "#for data analysis of weekend prices v. weekday prices.\n",
    "# only focus on a set starting point and destination point or make a clear distinction in presentation\n",
    "week_analysis_df = week_analysis_data[['segmentsAirlineCode', 'totalFare', 'flightDate', 'segmentsAirlineName']].copy()\n",
    "\n",
    "\n",
    "\n",
    "\n",
    "week_analysis_df['flightDate'] = pd.to_datetime(week_analysis_df['flightDate'], format='%Y-%m-%d')\n",
    "week_analysis_df['Weekday'] = week_analysis_df['flightDate'].dt.day_name()\n",
    "week_analysis_df['Weekend'] = week_analysis_df['Weekday'].apply(lambda day: 1 if day == 'Sunday' else 0)\n",
    "\n",
    "#make codes to correlate between the airline and the full name\n",
    "\n",
    "\n",
    "agg_data = week_analysis_df.groupby(['segmentsAirlineCode', 'Weekend'])['totalFare'].mean().reset_index()\n",
    "\n",
    "# Plot the aggregated data\n",
    "plt.subplots(figsize=(10, 6))\n",
    "sns.barplot(data=agg_data, x='segmentsAirlineCode', y='totalFare', hue='Weekend', color='orange')\n",
    "plt.xlabel(\"Airline\")\n",
    "plt.xticks(rotation=45)\n",
    "plt.ylabel(\"Average Price\")\n",
    "plt.title(\"Average Flight Price on Weekdays Vs Weekends by Airline\")\n",
    "plt.legend(title='Weekend', loc='upper right')\n",
    "plt.grid(axis='y', linestyle='--', alpha=0.7)\n",
    "plt.tight_layout()\n",
    "plt.show()\n",
    "#this currently prints but I need to preprocess data so that the graph looks more visually appealing. "
   ]
  },
  {
   "cell_type": "markdown",
   "metadata": {},
   "source": [
    "## Part 2: Directed Graph Network\n",
    "\n",
    "In class, we used a graph network to explore the ways in which connections can be made socially, economoically, and through systems in the world. \n",
    "\n",
    "Travel shows just how connected the world really is. And we are focused on sharing that as well."
   ]
  },
  {
   "cell_type": "code",
   "execution_count": null,
   "metadata": {},
   "outputs": [],
   "source": [
    "#what do we want the graph to represent??\n",
    "    #POSSIBLE IDEAS\n",
    "        #network of flight paths: shows how flights are connected by leg\n",
    "        #network of distances and the prices on each edge: shows how flights are connected by distance\n",
    "#first create a list of airport iata codes\n",
    "#second grab the distances from the distance column\n",
    "#create a network based on the flights given in the dataset\n",
    "    #make a function -> for each startingAirport grab the endingAirport and place the two in a list and append it to another list.\n",
    "#then add a labeled edge where the distance is written.\n",
    "\n",
    "# Create a directed graph\n",
    "G = nx.DiGraph()\n",
    "\n",
    "for chunk in flight_price_dataset:\n",
    "    start_airports = chunk['startingAirport'].unique()\n",
    "    stop_airports = chunk['destinationAirport'].unique()\n",
    "\n",
    "\n",
    "\n",
    "    # Add nodes representing airports to the graph\n",
    "    G.add_nodes_from(start_airports)\n",
    "    G.add_nodes_from(stop_airports)\n",
    "\n",
    "    # Add edges between the nodes based on flight connections with distances as edge labels\n",
    "    for index, row in chunk.iterrows():\n",
    "        start = row['startingAirport']\n",
    "        stop = row['destinationAirport']\n",
    "        distance = row['totalFare']  # You can replace this with the actual distance if available\n",
    "        G.add_edge(start, stop, distance=distance)\n",
    "\n",
    "# Draw the network graph with edge labels\n",
    "plt.figure(figsize=(10, 8))\n",
    "pos = nx.spring_layout(G)\n",
    "nx.draw(G, pos, with_labels=True, node_color='lightblue', node_size=1500, font_size=10, font_weight='bold')\n",
    "labels = nx.get_edge_attributes(G, 'distance')\n",
    "nx.draw_networkx_edge_labels(G, pos, edge_labels=labels)\n",
    "plt.title('Flight Network Graph with Distances')\n",
    "plt.show()\n",
    "\n",
    "\n",
    "\n"
   ]
  },
  {
   "cell_type": "code",
   "execution_count": null,
   "metadata": {},
   "outputs": [],
   "source": []
  }
 ],
 "metadata": {
  "kernelspec": {
   "display_name": "Python 3",
   "language": "python",
   "name": "python3"
  },
  "language_info": {
   "codemirror_mode": {
    "name": "ipython",
    "version": 3
   },
   "file_extension": ".py",
   "mimetype": "text/x-python",
   "name": "python",
   "nbconvert_exporter": "python",
   "pygments_lexer": "ipython3",
   "version": "3.11.1"
  }
 },
 "nbformat": 4,
 "nbformat_minor": 2
}
