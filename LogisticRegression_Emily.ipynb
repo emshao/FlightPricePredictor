{
 "cells": [
  {
   "cell_type": "code",
   "execution_count": 11,
   "metadata": {},
   "outputs": [],
   "source": [
    "import pandas as pd\n",
    "from sklearn.model_selection import train_test_split\n",
    "from sklearn.preprocessing import OneHotEncoder\n",
    "from sklearn.linear_model import LogisticRegression\n",
    "from sklearn.metrics import accuracy_score\n",
    "\n",
    "flight_data = pd.read_csv(\"C:/Users/Emily Shao/Desktop/archive/itineraries.csv\")"
   ]
  },
  {
   "cell_type": "code",
   "execution_count": 44,
   "metadata": {},
   "outputs": [
    {
     "data": {
      "text/plain": [
       "'6/5/2022'"
      ]
     },
     "execution_count": 44,
     "metadata": {},
     "output_type": "execute_result"
    }
   ],
   "source": [
    "# MAY NOT BE NECESSARY\n",
    "# THIS SECTION MAY NOT BE NECESSARY, TRYING TO CREATE CATEGORICAL DATA\n",
    "\n",
    "from datetime import datetime \n",
    "\n",
    "type(flight_data['flightDate'][0])\n",
    "\n",
    "flight_data['flightDate'][1048500] # '4/17/2022' type: str\n",
    "\n",
    "def time_buckets(pdseries):\n",
    "    for date in pdseries:\n",
    "        date_object = datetime.strptime(date, '%m/%d/%Y')\n"
   ]
  },
  {
   "cell_type": "code",
   "execution_count": 71,
   "metadata": {},
   "outputs": [
    {
     "name": "stdout",
     "output_type": "stream",
     "text": [
      "3531.16\n"
     ]
    }
   ],
   "source": [
    "import numpy as np\n",
    "\n",
    "type(flight_data['baseFare'][0])\n",
    "\n",
    "print(flight_data['baseFare'].max())\n",
    "\n",
    "def data_buckets(pdseries, num_buckets):\n",
    "    bins = np.linspace(0, 4000, num_buckets + 1)\n",
    "    labels = np.ceil(bins[1:]).astype(int)\n",
    "\n",
    "    bucket_labels = pd.cut(pdseries, bins=bins, labels=labels, right=True)\n",
    "\n",
    "    return bucket_labels\n",
    "\n",
    "\n",
    "\n",
    "buckets = 25 # 100 400\n",
    "flight_data['price_buckets'] = data_buckets(flight_data['baseFare'], buckets)\n",
    "\n",
    "# # Checking if there are NaN values within the code\n",
    "# print(\"Column 'A' has NaN values:\", flight_data['price_buckets'].isna().any())\n",
    "\n",
    "# nan_rows = flight_data[flight_data['price_buckets'].isna()]\n",
    "# print(nan_rows[['price_buckets', 'baseFare']])\n",
    "\n",
    "\n",
    "\n",
    "\n",
    "# def to_str(input):\n",
    "#     return str(input)\n",
    "\n",
    "# flight_data['price_categories'] = flight_data['price_buckets'].apply(to_str)\n",
    "\n",
    "# print(flight_data['baseFare'],flight_data['price_buckets']) #, flight_data['price_categories'])\n"
   ]
  },
  {
   "cell_type": "code",
   "execution_count": 72,
   "metadata": {},
   "outputs": [
    {
     "name": "stderr",
     "output_type": "stream",
     "text": [
      "c:\\Users\\Emily Shao\\AppData\\Local\\Programs\\Python\\Python310\\lib\\site-packages\\sklearn\\preprocessing\\_encoders.py:975: FutureWarning: `sparse` was renamed to `sparse_output` in version 1.2 and will be removed in 1.4. `sparse_output` is ignored unless you leave `sparse` to its default value.\n",
      "  warnings.warn(\n"
     ]
    }
   ],
   "source": [
    "encoder = OneHotEncoder(sparse=False)\n",
    "encoded_features = encoder.fit_transform(flight_data[['startingAirport', 'destinationAirport', 'flightDate']])\n",
    "\n",
    "# X = pd.concat([pd.DataFrame(encoded_features), flight_data[['baseFare']]], axis=1)\n",
    "\n",
    "X = pd.concat([pd.DataFrame(encoded_features), flight_data[['price_buckets']]], axis=1)\n",
    "y = X.pop('price_buckets')\n",
    "\n",
    "X_train, X_test, y_train, y_test = train_test_split(X, y, test_size=0.2, random_state=42)"
   ]
  },
  {
   "cell_type": "code",
   "execution_count": 76,
   "metadata": {},
   "outputs": [
    {
     "name": "stderr",
     "output_type": "stream",
     "text": [
      "c:\\Users\\Emily Shao\\AppData\\Local\\Programs\\Python\\Python310\\lib\\site-packages\\sklearn\\linear_model\\_logistic.py:460: ConvergenceWarning: lbfgs failed to converge (status=1):\n",
      "STOP: TOTAL NO. of ITERATIONS REACHED LIMIT.\n",
      "\n",
      "Increase the number of iterations (max_iter) or scale the data as shown in:\n",
      "    https://scikit-learn.org/stable/modules/preprocessing.html\n",
      "Please also refer to the documentation for alternative solver options:\n",
      "    https://scikit-learn.org/stable/modules/linear_model.html#logistic-regression\n",
      "  n_iter_i = _check_optimize_result(\n"
     ]
    },
    {
     "name": "stdout",
     "output_type": "stream",
     "text": [
      "Accuracy: 0.48285053525022054\n"
     ]
    }
   ],
   "source": [
    "# output trained with 25 buckets and 1000 iterations = accuracy 0.48353\n",
    "# output trained with 25 buckets and 300 iterations = accuracy 0.48344\n",
    "# output trained with 25 buckets and 100 iterations = accuracy 0.48285\n",
    "\n",
    "model = LogisticRegression(max_iter=100)\n",
    "model.fit(X_train, y_train)\n",
    "\n",
    "y_pred = model.predict(X_test)\n",
    "\n",
    "accuracy = accuracy_score(y_test, y_pred)\n",
    "print(\"Accuracy:\", accuracy)"
   ]
  },
  {
   "cell_type": "code",
   "execution_count": null,
   "metadata": {},
   "outputs": [],
   "source": [
    "# TODO\n",
    "\n",
    "import matplotlib.pyplot as plt\n",
    "\n",
    "plt.figure(figsize=(10, 6))\n",
    "plt.barh(feature_names, model.coef_[0])\n",
    "plt.xlabel('Coefficient Value')\n",
    "plt.ylabel('Feature')\n",
    "plt.title('Coefficients of Logistic Regression Model')\n",
    "plt.show()"
   ]
  },
  {
   "cell_type": "code",
   "execution_count": null,
   "metadata": {},
   "outputs": [],
   "source": []
  }
 ],
 "metadata": {
  "kernelspec": {
   "display_name": "Python 3",
   "language": "python",
   "name": "python3"
  },
  "language_info": {
   "codemirror_mode": {
    "name": "ipython",
    "version": 3
   },
   "file_extension": ".py",
   "mimetype": "text/x-python",
   "name": "python",
   "nbconvert_exporter": "python",
   "pygments_lexer": "ipython3",
   "version": "3.10.0"
  }
 },
 "nbformat": 4,
 "nbformat_minor": 2
}
