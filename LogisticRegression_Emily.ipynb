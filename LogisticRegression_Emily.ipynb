{
 "cells": [
  {
   "cell_type": "code",
   "execution_count": 1,
   "metadata": {},
   "outputs": [],
   "source": [
    "import pandas as pd\n",
    "from sklearn.model_selection import train_test_split\n",
    "from sklearn.preprocessing import OneHotEncoder\n",
    "from sklearn.linear_model import LogisticRegression\n",
    "from sklearn.metrics import accuracy_score\n",
    "\n",
    "flight_data = pd.read_csv(\"C:/Users/Emily Shao/Desktop/archive/itineraries.csv\")"
   ]
  },
  {
   "cell_type": "code",
   "execution_count": 9,
   "metadata": {},
   "outputs": [],
   "source": [
    "# MAY NOT BE NECESSARY\n",
    "# THIS SECTION MAY NOT BE NECESSARY, TRYING TO CREATE CATEGORICAL DATA\n",
    "# DO NOT RUN THIS BLOCK\n",
    "\n",
    "from datetime import datetime \n",
    "\n",
    "type(flight_data['flightDate'][0])\n",
    "\n",
    "flight_data['flightDate'][1048500] # '4/17/2022' type: str\n",
    "\n",
    "def time_buckets(pdseries):\n",
    "    for date in pdseries:\n",
    "        date_object = datetime.strptime(date, '%m/%d/%Y')\n",
    "\n",
    "\n",
    "def str_to_date(str):\n",
    "    return datetime.strptime(str, '%m/%d/%Y')\n",
    "\n",
    "\n",
    "flight_data['date_in_time'] = flight_data['flightDate'].apply(str_to_date)\n"
   ]
  },
  {
   "cell_type": "code",
   "execution_count": 11,
   "metadata": {},
   "outputs": [
    {
     "data": {
      "text/plain": [
       "0         2022-04-17\n",
       "1         2022-04-17\n",
       "2         2022-04-17\n",
       "3         2022-04-17\n",
       "4         2022-04-17\n",
       "             ...    \n",
       "1048570   2022-06-05\n",
       "1048571   2022-06-05\n",
       "1048572   2022-06-05\n",
       "1048573   2022-06-05\n",
       "1048574   2022-06-05\n",
       "Name: date_in_time, Length: 1048575, dtype: datetime64[ns]"
      ]
     },
     "execution_count": 11,
     "metadata": {},
     "output_type": "execute_result"
    }
   ],
   "source": [
    "flight_data['date_in_time']\n",
    "type(flight_data['date_in_time'][0])\n",
    "flight_data['date_in_time']"
   ]
  },
  {
   "cell_type": "code",
   "execution_count": 12,
   "metadata": {},
   "outputs": [
    {
     "name": "stdout",
     "output_type": "stream",
     "text": [
      "3531.16\n"
     ]
    }
   ],
   "source": [
    "import numpy as np\n",
    "\n",
    "type(flight_data['baseFare'][0])\n",
    "\n",
    "print(flight_data['baseFare'].max())\n",
    "\n",
    "def data_buckets(pdseries, num_buckets):\n",
    "    bins = np.linspace(0, 4000, num_buckets + 1)\n",
    "    labels = np.ceil(bins[1:]).astype(int)\n",
    "\n",
    "    bucket_labels = pd.cut(pdseries, bins=bins, labels=labels, right=True)\n",
    "\n",
    "    return bucket_labels\n",
    "\n",
    "\n",
    "\n",
    "buckets = 25 #100 # 25 400\n",
    "flight_data['price_buckets'] = data_buckets(flight_data['baseFare'], buckets)\n",
    "\n",
    "\n",
    "\n",
    "\n",
    "# # Checking if there are NaN values within the code\n",
    "# print(\"Column 'A' has NaN values:\", flight_data['price_buckets'].isna().any())\n",
    "\n",
    "# nan_rows = flight_data[flight_data['price_buckets'].isna()]\n",
    "# print(nan_rows[['price_buckets', 'baseFare']])\n",
    "\n",
    "\n",
    "\n",
    "\n",
    "# def to_str(input):\n",
    "#     return str(input)\n",
    "\n",
    "# flight_data['price_categories'] = flight_data['price_buckets'].apply(to_str)\n",
    "\n",
    "# print(flight_data['baseFare'],flight_data['price_buckets']) #, flight_data['price_categories'])\n"
   ]
  },
  {
   "cell_type": "code",
   "execution_count": 13,
   "metadata": {},
   "outputs": [
    {
     "name": "stderr",
     "output_type": "stream",
     "text": [
      "c:\\Users\\Emily Shao\\AppData\\Local\\Programs\\Python\\Python310\\lib\\site-packages\\sklearn\\preprocessing\\_encoders.py:975: FutureWarning: `sparse` was renamed to `sparse_output` in version 1.2 and will be removed in 1.4. `sparse_output` is ignored unless you leave `sparse` to its default value.\n",
      "  warnings.warn(\n"
     ]
    }
   ],
   "source": [
    "encoder = OneHotEncoder(sparse=False)\n",
    "# encoded_features = encoder.fit_transform(flight_data[['startingAirport', 'destinationAirport', 'flightDate']])\n",
    "encoded_features = encoder.fit_transform(flight_data[['startingAirport', 'destinationAirport', 'date_in_time']])\n",
    "\n",
    "# X = pd.concat([pd.DataFrame(encoded_features), flight_data[['baseFare']]], axis=1)\n",
    "\n",
    "X = pd.concat([pd.DataFrame(encoded_features), flight_data[['price_buckets']]], axis=1)\n",
    "y = X.pop('price_buckets')\n",
    "\n",
    "X_train, X_test, y_train, y_test = train_test_split(X, y, test_size=0.2, random_state=42)"
   ]
  },
  {
   "cell_type": "code",
   "execution_count": 15,
   "metadata": {},
   "outputs": [
    {
     "name": "stdout",
     "output_type": "stream",
     "text": [
      "Accuracy: 0.4834608873947977\n"
     ]
    }
   ],
   "source": [
    "# output trained with 25 buckets and 1000 iterations = accuracy 0.48353\n",
    "# output trained with 25 buckets and 300 iterations = accuracy 0.48344\n",
    "# output trained with 25 buckets and 100 iterations = accuracy 0.48285\n",
    "\n",
    "# output trained with 100 buckets and 300 iterations = accuracy 0.4833, time = 4m 42sec, iterations limit reached\n",
    "# output trained with 100 buckets and 500 iterations = accuracy 0.4834, time = 10m 4sec, failed to converge\n",
    "\n",
    "# output trained with 25 buckets and 500 iterations (with DateTime) = accuracy 0.4834, time = 9m 18sec, iterations limit reached\n",
    "\n",
    "\n",
    "model = LogisticRegression(max_iter=1000)\n",
    "model.fit(X_train, y_train)\n",
    "\n",
    "y_pred = model.predict(X_test)\n",
    "\n",
    "accuracy = accuracy_score(y_test, y_pred)\n",
    "print(\"Accuracy:\", accuracy)"
   ]
  },
  {
   "cell_type": "code",
   "execution_count": 8,
   "metadata": {},
   "outputs": [
    {
     "data": {
      "text/plain": [
       "str"
      ]
     },
     "execution_count": 8,
     "metadata": {},
     "output_type": "execute_result"
    }
   ],
   "source": [
    "type(flight_data['flightDate'][0])"
   ]
  },
  {
   "cell_type": "code",
   "execution_count": null,
   "metadata": {},
   "outputs": [],
   "source": [
    "model = LogisticRegression(max_iter=100)\n",
    "\n",
    "# Initialize accuracy variable to keep track of progress\n",
    "accuracy_progress = []\n",
    "\n",
    "for i in range(1, 101):  # Train for 100 iterations\n",
    "    model.fit(X_train, y_train)\n",
    "    y_pred = model.predict(X_test)\n",
    "    accuracy = accuracy_score(y_test, y_pred)\n",
    "    accuracy_progress.append(accuracy)\n",
    "    print(\"Iteration {}: Accuracy: {:.2f}%\".format(i, accuracy * 100))\n",
    "\n",
    "# Final accuracy after training for 100 iterations\n",
    "final_accuracy = accuracy_progress[-1]\n",
    "print(\"Final Accuracy:\", final_accuracy)"
   ]
  },
  {
   "cell_type": "code",
   "execution_count": null,
   "metadata": {},
   "outputs": [],
   "source": [
    "num_epochs = 100\n",
    "\n",
    "# Create lists to store training accuracy for each epoch\n",
    "# train_accuracy_list = []\n",
    "\n",
    "# Training loop\n",
    "for epoch in range(1, num_epochs + 1):\n",
    "    # Train the model for one epoch\n",
    "    model.fit(X_train, y_train)\n",
    "    \n",
    "    # Evaluate the model on the training set\n",
    "    y_train_pred = model.predict(X_train)\n",
    "    train_accuracy = accuracy_score(y_train, y_train_pred)\n",
    "    # train_accuracy_list.append(train_accuracy)\n",
    "    \n",
    "    # Evaluate the model on the test set\n",
    "    y_pred = model.predict(X_test)\n",
    "    test_accuracy = accuracy_score(y_test, y_pred)\n",
    "    \n",
    "    # Print progress\n",
    "    print(f\"Epoch {epoch}/{num_epochs} - Training Accuracy: {train_accuracy:.4f} - Test Accuracy: {test_accuracy:.4f}\")\n",
    "\n",
    "# After training, print the final accuracy\n",
    "final_test_accuracy = accuracy_score(y_test, y_pred)\n",
    "print(\"Final Test Accuracy:\", final_test_accuracy)"
   ]
  },
  {
   "cell_type": "code",
   "execution_count": null,
   "metadata": {},
   "outputs": [],
   "source": [
    "# TODO\n",
    "\n",
    "import matplotlib.pyplot as plt\n",
    "\n",
    "plt.figure(figsize=(10, 6))\n",
    "plt.barh(feature_names, model.coef_[0])\n",
    "plt.xlabel('Coefficient Value')\n",
    "plt.ylabel('Feature')\n",
    "plt.title('Coefficients of Logistic Regression Model')\n",
    "plt.show()"
   ]
  },
  {
   "cell_type": "code",
   "execution_count": null,
   "metadata": {},
   "outputs": [],
   "source": []
  }
 ],
 "metadata": {
  "kernelspec": {
   "display_name": "Python 3",
   "language": "python",
   "name": "python3"
  },
  "language_info": {
   "codemirror_mode": {
    "name": "ipython",
    "version": 3
   },
   "file_extension": ".py",
   "mimetype": "text/x-python",
   "name": "python",
   "nbconvert_exporter": "python",
   "pygments_lexer": "ipython3",
   "version": "3.10.0"
  }
 },
 "nbformat": 4,
 "nbformat_minor": 2
}
