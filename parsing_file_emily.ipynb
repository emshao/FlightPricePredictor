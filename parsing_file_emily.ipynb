{
 "cells": [
  {
   "cell_type": "code",
   "execution_count": 1,
   "metadata": {},
   "outputs": [
    {
     "name": "stdout",
     "output_type": "stream",
     "text": [
      "on this file\n"
     ]
    }
   ],
   "source": [
    "print(\"on this file\")"
   ]
  },
  {
   "cell_type": "markdown",
   "metadata": {},
   "source": [
    "Run the next cell to load raw dataset"
   ]
  },
  {
   "cell_type": "code",
   "execution_count": 2,
   "metadata": {},
   "outputs": [
    {
     "name": "stdout",
     "output_type": "stream",
     "text": [
      "done\n"
     ]
    }
   ],
   "source": [
    "import pandas as pd\n",
    "\n",
    "df = pd.read_csv(\"C:/Users/Emily Shao/Desktop/archive/itineraries.csv\")\n",
    "print(\"done\")"
   ]
  },
  {
   "cell_type": "code",
   "execution_count": 3,
   "metadata": {},
   "outputs": [
    {
     "data": {
      "text/html": [
       "<div>\n",
       "<style scoped>\n",
       "    .dataframe tbody tr th:only-of-type {\n",
       "        vertical-align: middle;\n",
       "    }\n",
       "\n",
       "    .dataframe tbody tr th {\n",
       "        vertical-align: top;\n",
       "    }\n",
       "\n",
       "    .dataframe thead th {\n",
       "        text-align: right;\n",
       "    }\n",
       "</style>\n",
       "<table border=\"1\" class=\"dataframe\">\n",
       "  <thead>\n",
       "    <tr style=\"text-align: right;\">\n",
       "      <th></th>\n",
       "      <th>legId</th>\n",
       "      <th>searchDate</th>\n",
       "      <th>flightDate</th>\n",
       "      <th>startingAirport</th>\n",
       "      <th>destinationAirport</th>\n",
       "      <th>fareBasisCode</th>\n",
       "      <th>travelDuration</th>\n",
       "      <th>elapsedDays</th>\n",
       "      <th>isBasicEconomy</th>\n",
       "      <th>isRefundable</th>\n",
       "      <th>...</th>\n",
       "      <th>segmentsArrivalTimeEpochSeconds</th>\n",
       "      <th>segmentsArrivalTimeRaw</th>\n",
       "      <th>segmentsArrivalAirportCode</th>\n",
       "      <th>segmentsDepartureAirportCode</th>\n",
       "      <th>segmentsAirlineName</th>\n",
       "      <th>segmentsAirlineCode</th>\n",
       "      <th>segmentsEquipmentDescription</th>\n",
       "      <th>segmentsDurationInSeconds</th>\n",
       "      <th>segmentsDistance</th>\n",
       "      <th>segmentsCabinCode</th>\n",
       "    </tr>\n",
       "  </thead>\n",
       "  <tbody>\n",
       "    <tr>\n",
       "      <th>0</th>\n",
       "      <td>9ca0e81111c683bec1012473feefd28f</td>\n",
       "      <td>4/16/2022</td>\n",
       "      <td>4/17/2022</td>\n",
       "      <td>ATL</td>\n",
       "      <td>BOS</td>\n",
       "      <td>LA0NX0MC</td>\n",
       "      <td>PT2H29M</td>\n",
       "      <td>0</td>\n",
       "      <td>False</td>\n",
       "      <td>False</td>\n",
       "      <td>...</td>\n",
       "      <td>1650223560</td>\n",
       "      <td>2022-04-17T15:26:00.000-04:00</td>\n",
       "      <td>BOS</td>\n",
       "      <td>ATL</td>\n",
       "      <td>Delta</td>\n",
       "      <td>DL</td>\n",
       "      <td>Airbus A321</td>\n",
       "      <td>8940</td>\n",
       "      <td>947</td>\n",
       "      <td>coach</td>\n",
       "    </tr>\n",
       "    <tr>\n",
       "      <th>1</th>\n",
       "      <td>98685953630e772a098941b71906592b</td>\n",
       "      <td>4/16/2022</td>\n",
       "      <td>4/17/2022</td>\n",
       "      <td>ATL</td>\n",
       "      <td>BOS</td>\n",
       "      <td>LA0NX0MC</td>\n",
       "      <td>PT2H30M</td>\n",
       "      <td>0</td>\n",
       "      <td>False</td>\n",
       "      <td>False</td>\n",
       "      <td>...</td>\n",
       "      <td>1650200400</td>\n",
       "      <td>2022-04-17T09:00:00.000-04:00</td>\n",
       "      <td>BOS</td>\n",
       "      <td>ATL</td>\n",
       "      <td>Delta</td>\n",
       "      <td>DL</td>\n",
       "      <td>Airbus A321</td>\n",
       "      <td>9000</td>\n",
       "      <td>947</td>\n",
       "      <td>coach</td>\n",
       "    </tr>\n",
       "    <tr>\n",
       "      <th>2</th>\n",
       "      <td>98d90cbc32bfbb05c2fc32897c7c1087</td>\n",
       "      <td>4/16/2022</td>\n",
       "      <td>4/17/2022</td>\n",
       "      <td>ATL</td>\n",
       "      <td>BOS</td>\n",
       "      <td>LA0NX0MC</td>\n",
       "      <td>PT2H30M</td>\n",
       "      <td>0</td>\n",
       "      <td>False</td>\n",
       "      <td>False</td>\n",
       "      <td>...</td>\n",
       "      <td>1650218700</td>\n",
       "      <td>2022-04-17T14:05:00.000-04:00</td>\n",
       "      <td>BOS</td>\n",
       "      <td>ATL</td>\n",
       "      <td>Delta</td>\n",
       "      <td>DL</td>\n",
       "      <td>Boeing 757-200</td>\n",
       "      <td>9000</td>\n",
       "      <td>947</td>\n",
       "      <td>coach</td>\n",
       "    </tr>\n",
       "    <tr>\n",
       "      <th>3</th>\n",
       "      <td>969a269d38eae583f455486fa90877b4</td>\n",
       "      <td>4/16/2022</td>\n",
       "      <td>4/17/2022</td>\n",
       "      <td>ATL</td>\n",
       "      <td>BOS</td>\n",
       "      <td>LA0NX0MC</td>\n",
       "      <td>PT2H32M</td>\n",
       "      <td>0</td>\n",
       "      <td>False</td>\n",
       "      <td>False</td>\n",
       "      <td>...</td>\n",
       "      <td>1650227460</td>\n",
       "      <td>2022-04-17T16:31:00.000-04:00</td>\n",
       "      <td>BOS</td>\n",
       "      <td>ATL</td>\n",
       "      <td>Delta</td>\n",
       "      <td>DL</td>\n",
       "      <td>Airbus A321</td>\n",
       "      <td>9120</td>\n",
       "      <td>947</td>\n",
       "      <td>coach</td>\n",
       "    </tr>\n",
       "    <tr>\n",
       "      <th>4</th>\n",
       "      <td>980370cf27c89b40d2833a1d5afc9751</td>\n",
       "      <td>4/16/2022</td>\n",
       "      <td>4/17/2022</td>\n",
       "      <td>ATL</td>\n",
       "      <td>BOS</td>\n",
       "      <td>LA0NX0MC</td>\n",
       "      <td>PT2H34M</td>\n",
       "      <td>0</td>\n",
       "      <td>False</td>\n",
       "      <td>False</td>\n",
       "      <td>...</td>\n",
       "      <td>1650213180</td>\n",
       "      <td>2022-04-17T12:33:00.000-04:00</td>\n",
       "      <td>BOS</td>\n",
       "      <td>ATL</td>\n",
       "      <td>Delta</td>\n",
       "      <td>DL</td>\n",
       "      <td>Airbus A321</td>\n",
       "      <td>9240</td>\n",
       "      <td>947</td>\n",
       "      <td>coach</td>\n",
       "    </tr>\n",
       "  </tbody>\n",
       "</table>\n",
       "<p>5 rows × 27 columns</p>\n",
       "</div>"
      ],
      "text/plain": [
       "                              legId searchDate flightDate startingAirport  \\\n",
       "0  9ca0e81111c683bec1012473feefd28f  4/16/2022  4/17/2022             ATL   \n",
       "1  98685953630e772a098941b71906592b  4/16/2022  4/17/2022             ATL   \n",
       "2  98d90cbc32bfbb05c2fc32897c7c1087  4/16/2022  4/17/2022             ATL   \n",
       "3  969a269d38eae583f455486fa90877b4  4/16/2022  4/17/2022             ATL   \n",
       "4  980370cf27c89b40d2833a1d5afc9751  4/16/2022  4/17/2022             ATL   \n",
       "\n",
       "  destinationAirport fareBasisCode travelDuration  elapsedDays  \\\n",
       "0                BOS      LA0NX0MC        PT2H29M            0   \n",
       "1                BOS      LA0NX0MC        PT2H30M            0   \n",
       "2                BOS      LA0NX0MC        PT2H30M            0   \n",
       "3                BOS      LA0NX0MC        PT2H32M            0   \n",
       "4                BOS      LA0NX0MC        PT2H34M            0   \n",
       "\n",
       "   isBasicEconomy  isRefundable  ...  segmentsArrivalTimeEpochSeconds  \\\n",
       "0           False         False  ...                       1650223560   \n",
       "1           False         False  ...                       1650200400   \n",
       "2           False         False  ...                       1650218700   \n",
       "3           False         False  ...                       1650227460   \n",
       "4           False         False  ...                       1650213180   \n",
       "\n",
       "          segmentsArrivalTimeRaw  segmentsArrivalAirportCode  \\\n",
       "0  2022-04-17T15:26:00.000-04:00                         BOS   \n",
       "1  2022-04-17T09:00:00.000-04:00                         BOS   \n",
       "2  2022-04-17T14:05:00.000-04:00                         BOS   \n",
       "3  2022-04-17T16:31:00.000-04:00                         BOS   \n",
       "4  2022-04-17T12:33:00.000-04:00                         BOS   \n",
       "\n",
       "   segmentsDepartureAirportCode  segmentsAirlineName segmentsAirlineCode  \\\n",
       "0                           ATL                Delta                  DL   \n",
       "1                           ATL                Delta                  DL   \n",
       "2                           ATL                Delta                  DL   \n",
       "3                           ATL                Delta                  DL   \n",
       "4                           ATL                Delta                  DL   \n",
       "\n",
       "  segmentsEquipmentDescription segmentsDurationInSeconds segmentsDistance  \\\n",
       "0                  Airbus A321                      8940              947   \n",
       "1                  Airbus A321                      9000              947   \n",
       "2               Boeing 757-200                      9000              947   \n",
       "3                  Airbus A321                      9120              947   \n",
       "4                  Airbus A321                      9240              947   \n",
       "\n",
       "  segmentsCabinCode  \n",
       "0             coach  \n",
       "1             coach  \n",
       "2             coach  \n",
       "3             coach  \n",
       "4             coach  \n",
       "\n",
       "[5 rows x 27 columns]"
      ]
     },
     "execution_count": 3,
     "metadata": {},
     "output_type": "execute_result"
    }
   ],
   "source": [
    "df.head()"
   ]
  },
  {
   "cell_type": "code",
   "execution_count": 4,
   "metadata": {},
   "outputs": [
    {
     "name": "stdout",
     "output_type": "stream",
     "text": [
      "<class 'pandas.core.frame.DataFrame'>\n",
      "RangeIndex: 1048575 entries, 0 to 1048574\n",
      "Data columns (total 27 columns):\n",
      " #   Column                             Non-Null Count    Dtype  \n",
      "---  ------                             --------------    -----  \n",
      " 0   legId                              1048575 non-null  object \n",
      " 1   searchDate                         1048575 non-null  object \n",
      " 2   flightDate                         1048575 non-null  object \n",
      " 3   startingAirport                    1048575 non-null  object \n",
      " 4   destinationAirport                 1048575 non-null  object \n",
      " 5   fareBasisCode                      1048575 non-null  object \n",
      " 6   travelDuration                     1048575 non-null  object \n",
      " 7   elapsedDays                        1048575 non-null  int64  \n",
      " 8   isBasicEconomy                     1048575 non-null  bool   \n",
      " 9   isRefundable                       1048575 non-null  bool   \n",
      " 10  isNonStop                          1048575 non-null  bool   \n",
      " 11  baseFare                           1048575 non-null  float64\n",
      " 12  totalFare                          1048575 non-null  float64\n",
      " 13  seatsRemaining                     1048575 non-null  int64  \n",
      " 14  totalTravelDistance                983821 non-null   float64\n",
      " 15  segmentsDepartureTimeEpochSeconds  1048575 non-null  object \n",
      " 16  segmentsDepartureTimeRaw           1048575 non-null  object \n",
      " 17  segmentsArrivalTimeEpochSeconds    1048575 non-null  object \n",
      " 18  segmentsArrivalTimeRaw             1048575 non-null  object \n",
      " 19  segmentsArrivalAirportCode         1048575 non-null  object \n",
      " 20  segmentsDepartureAirportCode       1048575 non-null  object \n",
      " 21  segmentsAirlineName                1048575 non-null  object \n",
      " 22  segmentsAirlineCode                1048575 non-null  object \n",
      " 23  segmentsEquipmentDescription       1028879 non-null  object \n",
      " 24  segmentsDurationInSeconds          1048575 non-null  object \n",
      " 25  segmentsDistance                   1048575 non-null  object \n",
      " 26  segmentsCabinCode                  1048575 non-null  object \n",
      "dtypes: bool(3), float64(3), int64(2), object(19)\n",
      "memory usage: 195.0+ MB\n"
     ]
    }
   ],
   "source": [
    "df.info()"
   ]
  },
  {
   "cell_type": "code",
   "execution_count": 5,
   "metadata": {},
   "outputs": [
    {
     "data": {
      "text/html": [
       "<div>\n",
       "<style scoped>\n",
       "    .dataframe tbody tr th:only-of-type {\n",
       "        vertical-align: middle;\n",
       "    }\n",
       "\n",
       "    .dataframe tbody tr th {\n",
       "        vertical-align: top;\n",
       "    }\n",
       "\n",
       "    .dataframe thead th {\n",
       "        text-align: right;\n",
       "    }\n",
       "</style>\n",
       "<table border=\"1\" class=\"dataframe\">\n",
       "  <thead>\n",
       "    <tr style=\"text-align: right;\">\n",
       "      <th></th>\n",
       "      <th>0</th>\n",
       "      <th>1</th>\n",
       "      <th>2</th>\n",
       "      <th>3</th>\n",
       "      <th>4</th>\n",
       "      <th>5</th>\n",
       "      <th>6</th>\n",
       "      <th>7</th>\n",
       "      <th>8</th>\n",
       "      <th>9</th>\n",
       "      <th>...</th>\n",
       "      <th>1048565</th>\n",
       "      <th>1048566</th>\n",
       "      <th>1048567</th>\n",
       "      <th>1048568</th>\n",
       "      <th>1048569</th>\n",
       "      <th>1048570</th>\n",
       "      <th>1048571</th>\n",
       "      <th>1048572</th>\n",
       "      <th>1048573</th>\n",
       "      <th>1048574</th>\n",
       "    </tr>\n",
       "  </thead>\n",
       "  <tbody>\n",
       "    <tr>\n",
       "      <th>flightDate</th>\n",
       "      <td>4/17/2022</td>\n",
       "      <td>4/17/2022</td>\n",
       "      <td>4/17/2022</td>\n",
       "      <td>4/17/2022</td>\n",
       "      <td>4/17/2022</td>\n",
       "      <td>4/17/2022</td>\n",
       "      <td>4/17/2022</td>\n",
       "      <td>4/17/2022</td>\n",
       "      <td>4/17/2022</td>\n",
       "      <td>4/17/2022</td>\n",
       "      <td>...</td>\n",
       "      <td>6/5/2022</td>\n",
       "      <td>6/5/2022</td>\n",
       "      <td>6/5/2022</td>\n",
       "      <td>6/5/2022</td>\n",
       "      <td>6/5/2022</td>\n",
       "      <td>6/5/2022</td>\n",
       "      <td>6/5/2022</td>\n",
       "      <td>6/5/2022</td>\n",
       "      <td>6/5/2022</td>\n",
       "      <td>6/5/2022</td>\n",
       "    </tr>\n",
       "    <tr>\n",
       "      <th>baseFare</th>\n",
       "      <td>217.67</td>\n",
       "      <td>217.67</td>\n",
       "      <td>217.67</td>\n",
       "      <td>217.67</td>\n",
       "      <td>217.67</td>\n",
       "      <td>217.67</td>\n",
       "      <td>213.02</td>\n",
       "      <td>213.02</td>\n",
       "      <td>213.02</td>\n",
       "      <td>213.02</td>\n",
       "      <td>...</td>\n",
       "      <td>440.93</td>\n",
       "      <td>440.93</td>\n",
       "      <td>495.81</td>\n",
       "      <td>533.95</td>\n",
       "      <td>556.28</td>\n",
       "      <td>595.35</td>\n",
       "      <td>595.35</td>\n",
       "      <td>705.11</td>\n",
       "      <td>770.22</td>\n",
       "      <td>78.14</td>\n",
       "    </tr>\n",
       "    <tr>\n",
       "      <th>startingAirport</th>\n",
       "      <td>ATL</td>\n",
       "      <td>ATL</td>\n",
       "      <td>ATL</td>\n",
       "      <td>ATL</td>\n",
       "      <td>ATL</td>\n",
       "      <td>ATL</td>\n",
       "      <td>ATL</td>\n",
       "      <td>ATL</td>\n",
       "      <td>ATL</td>\n",
       "      <td>ATL</td>\n",
       "      <td>...</td>\n",
       "      <td>IAD</td>\n",
       "      <td>IAD</td>\n",
       "      <td>IAD</td>\n",
       "      <td>IAD</td>\n",
       "      <td>IAD</td>\n",
       "      <td>IAD</td>\n",
       "      <td>IAD</td>\n",
       "      <td>IAD</td>\n",
       "      <td>IAD</td>\n",
       "      <td>IAD</td>\n",
       "    </tr>\n",
       "    <tr>\n",
       "      <th>destinationAirport</th>\n",
       "      <td>BOS</td>\n",
       "      <td>BOS</td>\n",
       "      <td>BOS</td>\n",
       "      <td>BOS</td>\n",
       "      <td>BOS</td>\n",
       "      <td>BOS</td>\n",
       "      <td>BOS</td>\n",
       "      <td>BOS</td>\n",
       "      <td>BOS</td>\n",
       "      <td>BOS</td>\n",
       "      <td>...</td>\n",
       "      <td>DFW</td>\n",
       "      <td>DFW</td>\n",
       "      <td>DFW</td>\n",
       "      <td>DFW</td>\n",
       "      <td>DFW</td>\n",
       "      <td>DFW</td>\n",
       "      <td>DFW</td>\n",
       "      <td>DFW</td>\n",
       "      <td>DFW</td>\n",
       "      <td>DTW</td>\n",
       "    </tr>\n",
       "  </tbody>\n",
       "</table>\n",
       "<p>4 rows × 1048575 columns</p>\n",
       "</div>"
      ],
      "text/plain": [
       "                      0          1          2          3          4        \\\n",
       "flightDate          4/17/2022  4/17/2022  4/17/2022  4/17/2022  4/17/2022   \n",
       "baseFare               217.67     217.67     217.67     217.67     217.67   \n",
       "startingAirport           ATL        ATL        ATL        ATL        ATL   \n",
       "destinationAirport        BOS        BOS        BOS        BOS        BOS   \n",
       "\n",
       "                      5          6          7          8          9        \\\n",
       "flightDate          4/17/2022  4/17/2022  4/17/2022  4/17/2022  4/17/2022   \n",
       "baseFare               217.67     213.02     213.02     213.02     213.02   \n",
       "startingAirport           ATL        ATL        ATL        ATL        ATL   \n",
       "destinationAirport        BOS        BOS        BOS        BOS        BOS   \n",
       "\n",
       "                    ...   1048565   1048566   1048567   1048568   1048569  \\\n",
       "flightDate          ...  6/5/2022  6/5/2022  6/5/2022  6/5/2022  6/5/2022   \n",
       "baseFare            ...    440.93    440.93    495.81    533.95    556.28   \n",
       "startingAirport     ...       IAD       IAD       IAD       IAD       IAD   \n",
       "destinationAirport  ...       DFW       DFW       DFW       DFW       DFW   \n",
       "\n",
       "                     1048570   1048571   1048572   1048573   1048574  \n",
       "flightDate          6/5/2022  6/5/2022  6/5/2022  6/5/2022  6/5/2022  \n",
       "baseFare              595.35    595.35    705.11    770.22     78.14  \n",
       "startingAirport          IAD       IAD       IAD       IAD       IAD  \n",
       "destinationAirport       DFW       DFW       DFW       DFW       DTW  \n",
       "\n",
       "[4 rows x 1048575 columns]"
      ]
     },
     "execution_count": 5,
     "metadata": {},
     "output_type": "execute_result"
    }
   ],
   "source": [
    "condensed_df = pd.DataFrame([df['flightDate'], df['baseFare'], df['startingAirport'], df['destinationAirport']])\n",
    "condensed_df.head()"
   ]
  },
  {
   "cell_type": "code",
   "execution_count": 6,
   "metadata": {},
   "outputs": [
    {
     "data": {
      "text/plain": [
       "217.67"
      ]
     },
     "execution_count": 6,
     "metadata": {},
     "output_type": "execute_result"
    }
   ],
   "source": [
    "# condensed_\n",
    "df['baseFare'][5]"
   ]
  },
  {
   "cell_type": "markdown",
   "metadata": {},
   "source": [
    "Pretend that you have a DF with the columsn for flightDate, baseFare, startingAirport, destinationAirport\n",
    "\n",
    "For now, I am using the variable df"
   ]
  },
  {
   "cell_type": "code",
   "execution_count": 7,
   "metadata": {},
   "outputs": [
    {
     "name": "stdout",
     "output_type": "stream",
     "text": [
      "finished\n"
     ]
    }
   ],
   "source": [
    "avg_price_dict = {}\n",
    "current_date = df['flightDate'][0]\n",
    "current_total = 0\n",
    "day_counter = 0\n",
    "\n",
    "for i in range(len(df['flightDate'])):\n",
    "    if df['flightDate'][i] != current_date:\n",
    "        avg = current_total / day_counter\n",
    "        avg_price_dict[current_date] = avg\n",
    "\n",
    "        day_counter = 0\n",
    "        current_total = 0\n",
    "\n",
    "        current_date = df['flightDate'][i]\n",
    "    \n",
    "    day_counter += 1\n",
    "    current_total += df['baseFare'][i]\n",
    "    \n",
    "print(\"finished\")\n"
   ]
  },
  {
   "cell_type": "code",
   "execution_count": 8,
   "metadata": {},
   "outputs": [
    {
     "data": {
      "image/png": "[encoded data removed]",
      "text/plain": [
       "<Figure size 640x480 with 1 Axes>"
      ]
     },
     "metadata": {},
     "output_type": "display_data"
    },
    {
     "data": {
      "text/plain": [
       "<Figure size 640x480 with 0 Axes>"
      ]
     },
     "metadata": {},
     "output_type": "display_data"
    }
   ],
   "source": [
    "import matplotlib.pyplot as plt\n",
    "\n",
    "plt.bar(avg_price_dict.keys(), avg_price_dict.values())\n",
    "plt.xlabel(\"date\")\n",
    "plt.ylabel(\"Average Price\")\n",
    "plt.title(\"Averge Flight Price per Day\")\n",
    "plt.show()\n",
    "\n",
    "plt.savefig(fname=\"C:/Users/Emily Shao/Desktop/FlightPricePredictor/Graphs/FlightPricePerDay.png\")"
   ]
  },
  {
   "cell_type": "code",
   "execution_count": 9,
   "metadata": {},
   "outputs": [],
   "source": [
    "day_of_week_index = 0\n",
    "day_of_week_prices = [0] * 7\n",
    "\n",
    "for key in avg_price_dict.keys():\n",
    "   day_of_week_prices[day_of_week_index] += avg_price_dict[key]\n",
    "\n",
    "   day_of_week_index += 1 \n",
    "   day_of_week_index %= 7\n",
    "\n",
    "day_of_week_names = ['Sun', 'Mon', 'Tues', 'Wed', 'Thurs', 'Fri', 'Sat']\n",
    "\n",
    "# correct for averages instead of sums, with 61 total dates\n",
    "for i in range(5):\n",
    "   day_of_week_prices[i] = day_of_week_prices[i] / 9\n",
    "\n",
    "day_of_week_prices[5] = day_of_week_prices[5] / 8\n",
    "day_of_week_prices[6] = day_of_week_prices[6] / 8\n"
   ]
  },
  {
   "cell_type": "code",
   "execution_count": 50,
   "metadata": {},
   "outputs": [
    {
     "data": {
      "image/png": "[encoded data removed]",
      "text/plain": [
       "<Figure size 640x480 with 1 Axes>"
      ]
     },
     "metadata": {},
     "output_type": "display_data"
    },
    {
     "data": {
      "text/plain": [
       "<Figure size 640x480 with 0 Axes>"
      ]
     },
     "metadata": {},
     "output_type": "display_data"
    }
   ],
   "source": [
    "plt.bar(day_of_week_names, day_of_week_prices)\n",
    "plt.xlabel(\"Day of Week\")\n",
    "plt.ylabel(\"Average Price\")\n",
    "plt.title(\"Average Flight Prices per Day of the Week\")\n",
    "plt.show()\n",
    "\n",
    "plt.savefig(fname=\"C:/Users/Emily Shao/Desktop/FlightPricePredictor/Graphs/FlightPricePerWeekday.png\")"
   ]
  },
  {
   "cell_type": "code",
   "execution_count": 41,
   "metadata": {},
   "outputs": [
    {
     "data": {
      "text/plain": [
       "Index(['LAX', 'LGA', 'BOS', 'DFW', 'SFO', 'ORD', 'ATL', 'MIA', 'CLT', 'PHL',\n",
       "       'DTW', 'DEN', 'EWR', 'JFK', 'IAD', 'OAK'],\n",
       "      dtype='object')"
      ]
     },
     "execution_count": 41,
     "metadata": {},
     "output_type": "execute_result"
    }
   ],
   "source": [
    "airport_value_count = df['startingAirport'].value_counts()\n",
    "airport_value_count.keys()"
   ]
  },
  {
   "cell_type": "code",
   "execution_count": null,
   "metadata": {},
   "outputs": [],
   "source": [
    "airport_prices = {}\n",
    "\n",
    "\n",
    "for i in range(len(df['startingAirport'])):\n",
    "    airport = df['startingAirport'][i]\n",
    "    price = df['baseFare'][i]\n",
    "\n",
    "    if airport not in airport_prices.keys():\n",
    "        airport_prices[airport] = 0\n",
    "\n",
    "    airport_prices[airport] += price\n",
    "\n",
    "\n",
    "for key in airport_prices:\n",
    "    num_of_flights = airport_value_count[key]\n",
    "\n",
    "    airport_prices[key] = airport_prices[key] / num_of_flights\n"
   ]
  },
  {
   "cell_type": "code",
   "execution_count": 51,
   "metadata": {},
   "outputs": [
    {
     "data": {
      "image/png": "[encoded data removed]",
      "text/plain": [
       "<Figure size 640x480 with 1 Axes>"
      ]
     },
     "metadata": {},
     "output_type": "display_data"
    },
    {
     "data": {
      "text/plain": [
       "<Figure size 640x480 with 0 Axes>"
      ]
     },
     "metadata": {},
     "output_type": "display_data"
    }
   ],
   "source": [
    "plt.bar(airport_prices.keys(), airport_prices.values())\n",
    "plt.xlabel(\"Airport\")\n",
    "plt.ylabel(\"Average Price\")\n",
    "plt.title(\"Averge Flight Price per Starting Airport\")\n",
    "plt.show()\n",
    "\n",
    "plt.savefig(fname=\"C:/Users/Emily Shao/Desktop/FlightPricePredictor/Graphs/FlightPricePerAirport.png\")"
   ]
  },
  {
   "cell_type": "markdown",
   "metadata": {},
   "source": [
    "Tried anova below"
   ]
  },
  {
   "cell_type": "code",
   "execution_count": null,
   "metadata": {},
   "outputs": [],
   "source": [
    "from scipy.stats import f_oneway\n",
    "import pandas as pd\n",
    "\n",
    "# Sample data (replace this with your actual data)\n",
    "data = {\n",
    "    'Airport': ['JFK', 'LAX', 'ORD', 'DFW', 'ATL'],\n",
    "    'Starting_Price': [200, 220, 180, 210, 190]\n",
    "}\n",
    "\n",
    "# Create a DataFrame from the data\n",
    "df = pd.DataFrame(data)\n",
    "\n",
    "# Group prices by airport\n",
    "grouped_data = [df[df['Airport'] == airport]['Starting_Price'] for airport in df['Airport'].unique()]\n",
    "\n",
    "# Perform one-way ANOVA\n",
    "f_statistic, p_value = f_oneway(*grouped_data)\n",
    "\n",
    "# Print results\n",
    "print(\"One-way ANOVA Results:\")\n",
    "print(\"F-statistic:\", f_statistic)\n",
    "print(\"p-value:\", p_value)\n",
    "\n",
    "# Interpret results\n",
    "alpha = 0.05\n",
    "if p_value < alpha:\n",
    "    print(\"The p-value is less than\", alpha, \"so we reject the null hypothesis.\")\n",
    "    print(\"There is a significant difference in starting prices across different airports.\")\n",
    "else:\n",
    "    print(\"The p-value is greater than or equal to\", alpha, \"so we fail to reject the null hypothesis.\")\n",
    "    print(\"There is no significant difference in starting prices across different airports.\")\n"
   ]
  }
 ],
 "metadata": {
  "kernelspec": {
   "display_name": "Python 3",
   "language": "python",
   "name": "python3"
  },
  "language_info": {
   "codemirror_mode": {
    "name": "ipython",
    "version": 3
   },
   "file_extension": ".py",
   "mimetype": "text/x-python",
   "name": "python",
   "nbconvert_exporter": "python",
   "pygments_lexer": "ipython3",
   "version": "3.10.0"
  }
 },
 "nbformat": 4,
 "nbformat_minor": 2
}
